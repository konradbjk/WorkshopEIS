{
 "cells": [
  {
   "cell_type": "code",
   "execution_count": 2,
   "metadata": {},
   "outputs": [],
   "source": [
    "import numpy as np\n",
    "import pandas as pd"
   ]
  },
  {
   "cell_type": "code",
   "execution_count": 3,
   "metadata": {
    "collapsed": true
   },
   "outputs": [],
   "source": [
    "def rssi_to_distance(rssi):\n",
    "\n",
    "    ### Declare local variable TxPower\n",
    "    # This is value of rssi @ 1m\n",
    "    TxPower = -65\n",
    "    ratio = rssi * 1.0 / TxPower\n",
    "    \n",
    "    # If rssi was 0\n",
    "    if (rssi == 0):\n",
    "      return -1\n",
    "    \n",
    "    if (ratio < 1.0):\n",
    "        return ratio**10\n",
    "    else:\n",
    "      dist = (0.89976) * (ratio ** 7.7095) + 0.111\n",
    "    return dist"
   ]
  },
  {
   "cell_type": "code",
   "execution_count": 4,
   "metadata": {
    "collapsed": true
   },
   "outputs": [],
   "source": [
    "RSSI = range(-100,-40)"
   ]
  },
  {
   "cell_type": "code",
   "execution_count": 9,
   "metadata": {},
   "outputs": [],
   "source": [
    "d = {}\n",
    "for r in RSSI:\n",
    "    d[r] = rssi_to_distance(r)"
   ]
  },
  {
   "cell_type": "code",
   "execution_count": 10,
   "metadata": {},
   "outputs": [
    {
     "data": {
      "text/plain": [
       "{-100: 25.02658904726947,\n",
       " -99: 23.168949933183047,\n",
       " -98: 21.433031943273445,\n",
       " -97: 19.811980648664818,\n",
       " -96: 18.299263200665816,\n",
       " -95: 16.888656326717445,\n",
       " -94: 15.574234656988484,\n",
       " -93: 14.35035937581255,\n",
       " -92: 13.211667192204192,\n",
       " -91: 12.153059623733682,\n",
       " -90: 11.169692588083686,\n",
       " -89: 10.256966296653632,\n",
       " -88: 9.410515444621531,\n",
       " -87: 8.626199691915767,\n",
       " -86: 7.900094429593407,\n",
       " -85: 7.228481826164924,\n",
       " -84: 6.607842148449466,\n",
       " -83: 6.034845351588396,\n",
       " -82: 5.50634293288929,\n",
       " -81: 5.019360044216557,\n",
       " -80: 4.571087857689661,\n",
       " -79: 4.158876179494165,\n",
       " -78: 3.7802263066558126,\n",
       " -77: 3.432784121672608,\n",
       " -76: 3.1143334199451074,\n",
       " -75: 2.82278946499021,\n",
       " -74: 2.5561927664692594,\n",
       " -73: 2.3127030761067466,\n",
       " -72: 2.0905935966217934,\n",
       " -71: 1.888245398840386,\n",
       " -70: 1.7041420422025293,\n",
       " -69: 1.536864393924718,\n",
       " -68: 1.3850856421246824,\n",
       " -67: 1.247566498261941,\n",
       " -66: 1.1231505842946197,\n",
       " -65: 1.01076,\n",
       " -64: 0.8563793241047093,\n",
       " -63: 0.7315970205097451,\n",
       " -62: 0.6234237290152215,\n",
       " -61: 0.5298644513991109,\n",
       " -60: 0.44913710714186356,\n",
       " -59: 0.37965274997577403,\n",
       " -58: 0.3199973407138298,\n",
       " -57: 0.2689149768284991,\n",
       " -56: 0.2252924841036363,\n",
       " -55: 0.18814528037496547,\n",
       " -54: 0.15660442590925155,\n",
       " -53: 0.12990477935188902,\n",
       " -52: 0.10737418240000006,\n",
       " -51: 0.08842360043586965,\n",
       " -50: 0.07253815028640576,\n",
       " -49: 0.05926895006094422,\n",
       " -48: 0.048225729664858795,\n",
       " -47: 0.03907014409274539,\n",
       " -46: 0.03150973497515332,\n",
       " -45: 0.02529248908960331,\n",
       " -44: 0.020201945652680697,\n",
       " -43: 0.016052807187998838,\n",
       " -42: 0.012687011617503758,\n",
       " -41: 0.009970225953618508}"
      ]
     },
     "execution_count": 10,
     "metadata": {},
     "output_type": "execute_result"
    }
   ],
   "source": [
    "d"
   ]
  },
  {
   "cell_type": "code",
   "execution_count": 16,
   "metadata": {
    "collapsed": true
   },
   "outputs": [],
   "source": [
    "import matplotlib.pylab as plt"
   ]
  },
  {
   "cell_type": "code",
   "execution_count": 21,
   "metadata": {},
   "outputs": [
    {
     "data": {
      "image/png": "[encoded data removed]",
      "text/plain": [
       "<matplotlib.figure.Figure at 0x7f9f496cb6a0>"
      ]
     },
     "metadata": {},
     "output_type": "display_data"
    }
   ],
   "source": [
    "lists = sorted(d.items())\n",
    "x, y = zip(*lists)\n",
    "plt.plot(y, x)\n",
    "plt.xlabel('Distance [m]')\n",
    "plt.ylabel('RSSI values')\n",
    "plt.show()"
   ]
  },
  {
   "cell_type": "code",
   "execution_count": null,
   "metadata": {
    "collapsed": true
   },
   "outputs": [],
   "source": []
  }
 ],
 "metadata": {
  "kernelspec": {
   "display_name": "Python 3",
   "language": "python",
   "name": "python3"
  },
  "language_info": {
   "codemirror_mode": {
    "name": "ipython",
    "version": 3
   },
   "file_extension": ".py",
   "mimetype": "text/x-python",
   "name": "python",
   "nbconvert_exporter": "python",
   "pygments_lexer": "ipython3",
   "version": "3.6.1"
  }
 },
 "nbformat": 4,
 "nbformat_minor": 2
}
