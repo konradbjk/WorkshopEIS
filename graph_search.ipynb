{
 "cells": [
  {
   "cell_type": "markdown",
   "metadata": {},
   "source": [
    "# Graph search algoritms sandbox"
   ]
  },
  {
   "cell_type": "markdown",
   "metadata": {},
   "source": [
    "## Initial imports"
   ]
  },
  {
   "cell_type": "code",
   "execution_count": 67,
   "metadata": {
    "collapsed": true
   },
   "outputs": [],
   "source": [
    "import matplotlib.pyplot as plt\n",
    "import collections\n",
    "import heapq"
   ]
  },
  {
   "cell_type": "markdown",
   "metadata": {},
   "source": [
    "### Simple function for creating graphs"
   ]
  },
  {
   "cell_type": "code",
   "execution_count": 21,
   "metadata": {},
   "outputs": [],
   "source": [
    "class SimpleGraph:\n",
    "    def __init__(self):\n",
    "        self.edges = {}\n",
    "    \n",
    "    def neighbors(self, id):\n",
    "        return self.edges[id]\n",
    "\n",
    "example_graph = SimpleGraph()\n",
    "example_graph.edges = {\n",
    "    'A': ['B'],\n",
    "    'B': ['A', 'C', 'D'],\n",
    "    'C': ['A'],\n",
    "    'D': ['E', 'A'],\n",
    "    'E': ['B']\n",
    "}\n"
   ]
  },
  {
   "cell_type": "code",
   "execution_count": 24,
   "metadata": {},
   "outputs": [],
   "source": [
    "class Queue:\n",
    "    def __init__(self):\n",
    "        self.elements = collections.deque()\n",
    "    \n",
    "    def empty(self):\n",
    "        return len(self.elements) == 0\n",
    "    \n",
    "    def put(self, x):\n",
    "        self.elements.append(x)\n",
    "    \n",
    "    def get(self):\n",
    "        return self.elements.popleft()"
   ]
  },
  {
   "cell_type": "markdown",
   "metadata": {},
   "source": [
    "### Breadth First Search"
   ]
  },
  {
   "cell_type": "code",
   "execution_count": 57,
   "metadata": {},
   "outputs": [
    {
     "name": "stdout",
     "output_type": "stream",
     "text": [
      "Visiting 'B'\n",
      "Visiting 'A'\n",
      "Visiting 'C'\n",
      "Visiting 'D'\n",
      "Visiting 'E'\n"
     ]
    }
   ],
   "source": [
    "def breadth_first_search_1(graph, start):\n",
    "        # print out what we find\n",
    "        frontier = Queue()\n",
    "        frontier.put(start)\n",
    "        visited = {}\n",
    "        visited[start] = True\n",
    "        while not frontier.empty():\n",
    "            current = frontier.get()\n",
    "            print(\"Visiting %r\" % current)\n",
    "            for next in graph.neighbors(current):\n",
    "                if next not in visited:\n",
    "                    frontier.put(next)\n",
    "                    visited[next] = True\n",
    "\n",
    "breadth_first_search_1(example_graph, 'B')"
   ]
  },
  {
   "cell_type": "markdown",
   "metadata": {},
   "source": [
    "### Handle more complicated graphs"
   ]
  },
  {
   "cell_type": "code",
   "execution_count": 46,
   "metadata": {
    "collapsed": true
   },
   "outputs": [],
   "source": [
    "# Create Grid that stores tuples instead of \n",
    "class SquareGrid:\n",
    "    def __init__(self, width, height):\n",
    "        self.width = width\n",
    "        self.height = height\n",
    "        self.walls = []\n",
    "    \n",
    "    def in_bounds(self, id):\n",
    "        (x, y) = id\n",
    "        return 0 <= x < self.width and 0 <= y < self.height\n",
    "    \n",
    "    def passable(self, id):\n",
    "        return id not in self.walls\n",
    "    \n",
    "    def neighbors(self, id):\n",
    "        (x, y) = id\n",
    "        results = [(x+1, y), (x, y-1), (x-1, y), (x, y+1)]\n",
    "        if (x + y) % 2 == 0: results.reverse() # aesthetics\n",
    "        results = filter(self.in_bounds, results)\n",
    "        results = filter(self.passable, results)\n",
    "        return results"
   ]
  },
  {
   "cell_type": "code",
   "execution_count": 74,
   "metadata": {
    "collapsed": true
   },
   "outputs": [],
   "source": [
    "# Utility functions for dealing with square grids\n",
    "def from_id_width(id, width):\n",
    "    return (id % width, id // width)\n",
    "\n",
    "def draw_tile(graph, id, style, width):\n",
    "    r = \".\"\n",
    "    if 'number' in style and id in style['number']: r = \"%d\" % style['number'][id]\n",
    "    if 'point_to' in style and style['point_to'].get(id, None) is not None:\n",
    "        (x1, y1) = id\n",
    "        (x2, y2) = style['point_to'][id]\n",
    "        if x2 == x1 + 1: r = \"\\u2192\"\n",
    "        if x2 == x1 - 1: r = \"\\u2190\"\n",
    "        if y2 == y1 + 1: r = \"\\u2193\"\n",
    "        if y2 == y1 - 1: r = \"\\u2191\"\n",
    "    if 'start' in style and id == style['start']: r = \"A\"\n",
    "    if 'goal' in style and id == style['goal']: r = \"Z\"\n",
    "    if 'path' in style and id in style['path']: r = \"@\"\n",
    "    if id in graph.walls: r = \"#\" * width\n",
    "    return r\n",
    "\n",
    "def draw_grid(graph, width=2, **style):\n",
    "    for y in range(graph.height):\n",
    "        for x in range(graph.width):\n",
    "            print(\"%%-%ds\" % width % draw_tile(graph, (x, y), style, width), end=\"\")\n",
    "        print()\n",
    "\n",
    "DIAGRAM1_WALLS = [from_id_width(id, width=30) for id in [21,22,51,52,81,82,93,94,111,112,123,124,133,134,141,142,153,154,163,164,171,172,173,174,175,183,184,193,194,201,202,203,204,205,213,214,223,224,243,244,253,254,273,274,283,284,303,304,313,314,333,334,343,344,373,374,403,404,433,434]]\n"
   ]
  },
  {
   "cell_type": "code",
   "execution_count": 75,
   "metadata": {},
   "outputs": [
    {
     "name": "stdout",
     "output_type": "stream",
     "text": [
      ". . . . . . . . . . . . . . . . . . . . . ####. . . . . . . \n",
      ". . . . . . . . . . . . . . . . . . . . . ####. . . . . . . \n",
      ". . . . . . . . . . . . . . . . . . . . . ####. . . . . . . \n",
      ". . . ####. . . . . . . . . . . . . . . . ####. . . . . . . \n",
      ". . . ####. . . . . . . . ####. . . . . . ####. . . . . . . \n",
      ". . . ####. . . . . . . . ####. . . . . . ##########. . . . \n",
      ". . . ####. . . . . . . . ####. . . . . . ##########. . . . \n",
      ". . . ####. . . . . . . . ####. . . . . . . . . . . . . . . \n",
      ". . . ####. . . . . . . . ####. . . . . . . . . . . . . . . \n",
      ". . . ####. . . . . . . . ####. . . . . . . . . . . . . . . \n",
      ". . . ####. . . . . . . . ####. . . . . . . . . . . . . . . \n",
      ". . . ####. . . . . . . . ####. . . . . . . . . . . . . . . \n",
      ". . . . . . . . . . . . . ####. . . . . . . . . . . . . . . \n",
      ". . . . . . . . . . . . . ####. . . . . . . . . . . . . . . \n",
      ". . . . . . . . . . . . . ####. . . . . . . . . . . . . . . \n"
     ]
    }
   ],
   "source": [
    "g = SquareGrid(30, 15)\n",
    "g.walls = DIAGRAM1_WALLS # long list, [(21, 0), (21, 2), ...]\n",
    "draw_grid(g)"
   ]
  },
  {
   "cell_type": "code",
   "execution_count": 65,
   "metadata": {},
   "outputs": [
    {
     "name": "stdout",
     "output_type": "stream",
     "text": [
      "→ → → → → → ↓ ↓ ↓ ↓ ← ← ← ← ← ← ← . . . . ####. . . . . . . \n",
      "→ → → → → → → ↓ ↓ ← ← ← ← ← ← ← ← ← . . . ####. . . . . . . \n",
      "→ → → → → → → A ← ← ← ← ← ← ← ← ← Z . . . ####. . . . . . . \n",
      "→ → ↑ ####→ ↑ ↑ ↑ ← ← ← ← ← ← ← ← ← . . . ####. . . . . . . \n",
      "→ ↑ ↑ ####↑ ↑ ↑ ↑ ↑ ← ← ← ####↑ ← . . . . ####. . . . . . . \n",
      "↑ ↑ ↑ ####↑ ↑ ↑ ↑ ↑ ↑ ← ← ####↑ . . . . . ##########. . . . \n",
      ". ↑ ↑ ####↑ ↑ ↑ ↑ ↑ ↑ ↑ ← ####. . . . . . ##########. . . . \n",
      ". . ↑ ####↑ ↑ ↑ ↑ ↑ ↑ ↑ ↑ ####. . . . . . . . . . . . . . . \n",
      ". . . ####↑ ↑ ↑ ↑ ↑ ↑ ↑ ↑ ####. . . . . . . . . . . . . . . \n",
      ". . . ####↑ ↑ ↑ ↑ ↑ ↑ ↑ . ####. . . . . . . . . . . . . . . \n",
      ". . . ####↑ ↑ ↑ ↑ ↑ ↑ . . ####. . . . . . . . . . . . . . . \n",
      ". . . ####. ↑ ↑ ↑ ↑ . . . ####. . . . . . . . . . . . . . . \n",
      ". . . . . . . ↑ ↑ . . . . ####. . . . . . . . . . . . . . . \n",
      ". . . . . . . . . . . . . ####. . . . . . . . . . . . . . . \n",
      ". . . . . . . . . . . . . ####. . . . . . . . . . . . . . . \n"
     ]
    }
   ],
   "source": [
    "def early_exit(graph, start, goal):\n",
    "    frontier = Queue()\n",
    "    frontier.put(start)\n",
    "    came_from = {}\n",
    "    came_from[start] = None\n",
    "\n",
    "    while not frontier.empty():\n",
    "        current = frontier.get()\n",
    "        \n",
    "        # Early exit thing\n",
    "        if current == goal: \n",
    "            break           \n",
    "        \n",
    "        for next in graph.neighbors(current):\n",
    "            if next not in came_from:\n",
    "                frontier.put(next)\n",
    "                came_from[next] = current\n",
    "                \n",
    "    return came_from\n",
    "    g = SquareGrid(30, 15)\n",
    "    g.walls = DIAGRAM1_WALLS\n",
    "\n",
    "\n",
    "# Start Point and Goal points\n",
    "_start = (7, 2)\n",
    "_goal = (17, 2)\n",
    "\n",
    "parents = early_exit(g, _start, _goal )\n",
    "draw_grid(g, width=2, point_to=parents, start=_start, goal=_goal)"
   ]
  },
  {
   "cell_type": "markdown",
   "metadata": {},
   "source": [
    "## Dijkstra \n"
   ]
  },
  {
   "cell_type": "code",
   "execution_count": 68,
   "metadata": {
    "collapsed": true
   },
   "outputs": [],
   "source": [
    "# Now we need to implement also weights to escalate cost of movement\n",
    "class GridWithWeights(SquareGrid):\n",
    "    \n",
    "    def __init__(self, width, height):\n",
    "        super().__init__(width, height)\n",
    "        self.weights = {}\n",
    "        \n",
    "    # this function tells us the cost of moving\n",
    "    def cost(self, from_node, to_node):\n",
    "        return self.weights.get(to_node, 1)\n",
    "\n",
    "diagram4 = GridWithWeights(10, 10)\n",
    "diagram4.walls = [(1, 7), (1, 8), (2, 7), (2, 8), (3, 7), (3, 8)]\n",
    "diagram4.weights = {loc: 5 for loc in [(3, 4), (3, 5), (4, 1), (4, 2),\n",
    "                                       (4, 3), (4, 4), (4, 5), (4, 6), \n",
    "                                       (4, 7), (4, 8), (5, 1), (5, 2),\n",
    "                                       (5, 3), (5, 4), (5, 5), (5, 6), \n",
    "                                       (5, 7), (5, 8), (6, 2), (6, 3), \n",
    "                                       (6, 4), (6, 5), (6, 6), (6, 7), \n",
    "                                       (7, 3), (7, 4), (7, 5)]}\n",
    "\n",
    "\n",
    "class PriorityQueue:\n",
    "    def __init__(self):\n",
    "        self.elements = []\n",
    "    \n",
    "    def empty(self):\n",
    "        return len(self.elements) == 0\n",
    "    \n",
    "    def put(self, item, priority):\n",
    "        heapq.heappush(self.elements, (priority, item))\n",
    "    \n",
    "    def get(self):\n",
    "        return heapq.heappop(self.elements)[1]\n",
    "\n",
    "# Sometimes this variant is called Uniform Cost Search\n",
    "def dijkstra_search(graph, start, goal):\n",
    "    \n",
    "    # Good thing is that we do not put all the nodes at the start\n",
    "    frontier = PriorityQueue()\n",
    "    frontier.put(start, 0)\n",
    "    came_from = {}\n",
    "    cost_so_far = {}\n",
    "    came_from[start] = None\n",
    "    cost_so_far[start] = 0\n",
    "\n",
    "    while not frontier.empty():\n",
    "        current = frontier.get()\n",
    "        \n",
    "        # In case to not insert all nodes I implemented EarlyExit also\n",
    "        if current == goal:\n",
    "            break\n",
    "\n",
    "        for next in graph.neighbors(current):\n",
    "            new_cost = cost_so_far[current] + graph.cost(current, next)\n",
    "            if next not in cost_so_far or new_cost < cost_so_far[next]:\n",
    "                cost_so_far[next] = new_cost\n",
    "                priority = new_cost\n",
    "                frontier.put(next, priority)\n",
    "                came_from[next] = current\n",
    "                \n",
    "    return came_from, cost_so_far\n",
    "\n",
    "def reconstruct_path(came_from, start, goal):\n",
    "    current = goal\n",
    "    path = [current]\n",
    "    while current != start:\n",
    "        current = came_from[current]\n",
    "        path.append(current)\n",
    "    path.append(start)\n",
    "    path.reverse() \n",
    "    return path"
   ]
  },
  {
   "cell_type": "code",
   "execution_count": 70,
   "metadata": {},
   "outputs": [
    {
     "name": "stdout",
     "output_type": "stream",
     "text": [
      "↓  ↓  ←  ←  ←  ←  ←  ←  ←  ←  \n",
      "↓  ↓  ←  ←  ←  ↑  ↑  ←  ←  ←  \n",
      "↓  ↓  ←  ←  ←  ←  ↑  ↑  ←  ←  \n",
      "↓  ↓  ←  ←  ←  ←  ←  ↑  ↑  .  \n",
      "→  A  ←  ←  ←  ←  .  .  .  .  \n",
      "↑  ↑  ←  ←  ←  ←  .  .  .  .  \n",
      "↑  ↑  ←  ←  ←  ←  ←  .  .  .  \n",
      "↑  #########↑  ←  ↓  .  .  .  \n",
      "↑  #########↓  ↓  ↓  Z  .  .  \n",
      "↑  ←  ←  ←  ←  ←  ←  ←  ←  .  \n",
      "\n",
      "5  4  5  6  7  8  9  10 11 12 \n",
      "4  3  4  5  10 13 10 11 12 13 \n",
      "3  2  3  4  9  14 15 12 13 14 \n",
      "2  1  2  3  8  13 18 17 14 .  \n",
      "1  A  1  6  11 16 .  .  .  .  \n",
      "2  1  2  7  12 17 .  .  .  .  \n",
      "3  2  3  4  9  14 19 .  .  .  \n",
      "4  #########14 19 18 .  .  .  \n",
      "5  #########15 16 13 Z  .  .  \n",
      "6  7  8  9  10 11 12 13 14 .  \n",
      "\n",
      ".  .  .  .  .  .  .  .  .  .  \n",
      ".  .  .  .  .  .  .  .  .  .  \n",
      ".  .  .  .  .  .  .  .  .  .  \n",
      ".  .  .  .  .  .  .  .  .  .  \n",
      "@  @  .  .  .  .  .  .  .  .  \n",
      "@  .  .  .  .  .  .  .  .  .  \n",
      "@  .  .  .  .  .  .  .  .  .  \n",
      "@  #########.  .  .  .  .  .  \n",
      "@  #########.  .  @  @  .  .  \n",
      "@  @  @  @  @  @  @  .  .  .  \n"
     ]
    }
   ],
   "source": [
    "# Test time\n",
    "came_from, cost_so_far = dijkstra_search(diagram4, (1, 4), (7, 8))\n",
    "draw_grid(diagram4, width=3, point_to=came_from, start=(1, 4), goal=(7, 8))\n",
    "print()\n",
    "draw_grid(diagram4, width=3, number=cost_so_far, start=(1, 4), goal=(7, 8))\n",
    "print()\n",
    "draw_grid(diagram4, width=3, path=reconstruct_path(came_from, start=(1, 4), goal=(7, 8)))"
   ]
  },
  {
   "cell_type": "markdown",
   "metadata": {},
   "source": [
    "## A*"
   ]
  },
  {
   "cell_type": "markdown",
   "metadata": {},
   "source": [
    "### Create Heuristics"
   ]
  },
  {
   "cell_type": "code",
   "execution_count": 76,
   "metadata": {
    "collapsed": true
   },
   "outputs": [],
   "source": [
    "def heuristic(a, b):\n",
    "    (x1, y1) = a\n",
    "    (x2, y2) = b\n",
    "    return abs(x1 - x2) + abs(y1 - y2)"
   ]
  },
  {
   "cell_type": "code",
   "execution_count": 87,
   "metadata": {},
   "outputs": [],
   "source": [
    "## Heuristics search (Greedy Best First Search)\n",
    "def greedy_best_first_search(graph, start, goal):\n",
    "    frontier = PriorityQueue()\n",
    "    frontier.put(start, 0)\n",
    "    came_from = {}\n",
    "    came_from[start] = None\n",
    "\n",
    "    while not frontier.empty():\n",
    "        current = frontier.get()\n",
    "\n",
    "        if current == goal:\n",
    "            break\n",
    "\n",
    "        for next in graph.neighbors(current):\n",
    "            if next not in came_from:\n",
    "                # We do not use cost_so_far from Dijsktra\n",
    "                priority = heuristic(goal, next)\n",
    "                frontier.put(next, priority)\n",
    "                came_from[next] = current\n",
    "                \n",
    "    return cost_so_far"
   ]
  },
  {
   "cell_type": "code",
   "execution_count": 88,
   "metadata": {},
   "outputs": [
    {
     "name": "stdout",
     "output_type": "stream",
     "text": [
      ".  .  .  .  .  .  .  .  .  .  \n",
      ".  ↓  ↓  ↓  .  .  .  .  .  .  \n",
      "↓  ↓  ↓  ↓  ←  .  .  .  .  .  \n",
      "↓  ↓  ↓  ←  ←  .  .  .  .  .  \n",
      "→  A  ←  ←  ←  .  .  .  .  .  \n",
      "→  ↑  ←  ←  ←  .  .  .  .  .  \n",
      "→  ↑  ←  ←  ←  ←  .  .  .  .  \n",
      "↑  #########↑  .  ↓  .  .  .  \n",
      "↑  #########↓  ↓  ↓  Z  .  .  \n",
      "↑  ←  ←  ←  ←  ←  ←  ←  .  .  \n",
      "\n",
      ".  .  .  .  .  .  .  .  .  .  \n",
      ".  3  4  5  .  .  .  .  .  .  \n",
      "3  2  3  4  9  .  .  .  .  .  \n",
      "2  1  2  3  8  .  .  .  .  .  \n",
      "1  A  1  6  11 .  .  .  .  .  \n",
      "2  1  2  7  12 .  .  .  .  .  \n",
      "3  2  3  4  9  14 .  .  .  .  \n",
      "4  #########14 .  18 .  .  .  \n",
      "5  #########15 16 13 Z  .  .  \n",
      "6  7  8  9  10 11 12 13 .  .  \n",
      "\n",
      ".  .  .  .  .  .  .  .  .  .  \n",
      ".  .  .  .  .  .  .  .  .  .  \n",
      ".  .  .  .  .  .  .  .  .  .  \n",
      ".  .  .  .  .  .  .  .  .  .  \n",
      ".  @  .  .  .  .  .  .  .  .  \n",
      ".  @  .  .  .  .  .  .  .  .  \n",
      "@  @  .  .  .  .  .  .  .  .  \n",
      "@  #########.  .  .  .  .  .  \n",
      "@  #########.  .  @  @  .  .  \n",
      "@  @  @  @  @  @  @  .  .  .  \n"
     ]
    }
   ],
   "source": [
    "cost_so_far = greedy_best_first_search(diagram4, (1, 4), (7, 8))\n",
    "draw_grid(diagram4, width=3, point_to=came_from, start=(1, 4), goal=(7, 8))\n",
    "print()\n",
    "draw_grid(diagram4, width=3, number=cost_so_far, start=(1, 4), goal=(7, 8))\n",
    "print()\n",
    "draw_grid(diagram4, width=3, path=reconstruct_path(came_from, start=(1, 4), goal=(7, 8)))"
   ]
  },
  {
   "cell_type": "markdown",
   "metadata": {},
   "source": [
    "### A-star search algorithm"
   ]
  },
  {
   "cell_type": "code",
   "execution_count": 77,
   "metadata": {
    "collapsed": true
   },
   "outputs": [],
   "source": [
    "def a_star_search(graph, start, goal):\n",
    "    frontier = PriorityQueue()\n",
    "    frontier.put(start, 0)\n",
    "    came_from = {}\n",
    "    cost_so_far = {}\n",
    "    came_from[start] = None\n",
    "    cost_so_far[start] = 0\n",
    "    \n",
    "    while not frontier.empty():\n",
    "        current = frontier.get()\n",
    "        \n",
    "        if current == goal:\n",
    "            break\n",
    "        \n",
    "        for next in graph.neighbors(current):\n",
    "            new_cost = cost_so_far[current] + graph.cost(current, next)\n",
    "            if next not in cost_so_far or new_cost < cost_so_far[next]:\n",
    "                cost_so_far[next] = new_cost\n",
    "                priority = new_cost + heuristic(goal, next)\n",
    "                frontier.put(next, priority)\n",
    "                came_from[next] = current\n",
    "    \n",
    "    return came_from, cost_so_far"
   ]
  },
  {
   "cell_type": "code",
   "execution_count": 85,
   "metadata": {},
   "outputs": [
    {
     "name": "stdout",
     "output_type": "stream",
     "text": [
      ".  .  .  .  .  .  .  .  .  .  \n",
      ".  ↓  ↓  ↓  .  .  .  .  .  .  \n",
      "↓  ↓  ↓  ↓  ←  .  .  .  .  .  \n",
      "↓  ↓  ↓  ←  ←  .  .  .  .  .  \n",
      "→  A  ←  ←  ←  .  .  .  .  .  \n",
      "→  ↑  ←  ←  ←  .  .  .  .  .  \n",
      "→  ↑  ←  ←  ←  ←  .  .  .  .  \n",
      "↑  #########↑  .  ↓  .  .  .  \n",
      "↑  #########↓  ↓  ↓  Z  .  .  \n",
      "↑  ←  ←  ←  ←  ←  ←  ←  .  .  \n",
      "\n",
      ".  .  .  .  .  .  .  .  .  .  \n",
      ".  3  4  5  .  .  .  .  .  .  \n",
      "3  2  3  4  9  .  .  .  .  .  \n",
      "2  1  2  3  8  .  .  .  .  .  \n",
      "1  A  1  6  11 .  .  .  .  .  \n",
      "2  1  2  7  12 .  .  .  .  .  \n",
      "3  2  3  4  9  14 .  .  .  .  \n",
      "4  #########14 .  18 .  .  .  \n",
      "5  #########15 16 13 Z  .  .  \n",
      "6  7  8  9  10 11 12 13 .  .  \n"
     ]
    }
   ],
   "source": [
    "came_from, cost_so_far = a_star_search(diagram4, (1, 4), (7, 8))\n",
    "draw_grid(diagram4, width=3, point_to=came_from, start=(1, 4), goal=(7, 8))\n",
    "print()\n",
    "draw_grid(diagram4, width=3, number=cost_so_far, start=(1, 4), goal=(7, 8))"
   ]
  },
  {
   "cell_type": "code",
   "execution_count": null,
   "metadata": {
    "collapsed": true
   },
   "outputs": [],
   "source": []
  }
 ],
 "metadata": {
  "kernelspec": {
   "display_name": "Python 3",
   "language": "python",
   "name": "python3"
  },
  "language_info": {
   "codemirror_mode": {
    "name": "ipython",
    "version": 3
   },
   "file_extension": ".py",
   "mimetype": "text/x-python",
   "name": "python",
   "nbconvert_exporter": "python",
   "pygments_lexer": "ipython3",
   "version": "3.6.0"
  }
 },
 "nbformat": 4,
 "nbformat_minor": 2
}
